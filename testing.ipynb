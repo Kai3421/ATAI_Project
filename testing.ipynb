{
 "cells": [
  {
   "cell_type": "code",
   "id": "initial_id",
   "metadata": {
    "collapsed": true,
    "ExecuteTime": {
     "end_time": "2024-10-24T09:22:16.371802Z",
     "start_time": "2024-10-24T09:22:16.366822Z"
    }
   },
   "source": [
    "import pyparsing\n",
    "from speakeasypy import Speakeasy\n",
    "import rdflib\n",
    "from rdflib.namespace import split_uri\n",
    "from rdflib.namespace import Namespace, RDF, RDFS, XSD\n",
    "import pickle"
   ],
   "outputs": [],
   "execution_count": 28
  },
  {
   "metadata": {
    "ExecuteTime": {
     "end_time": "2024-10-24T08:53:02.088961Z",
     "start_time": "2024-10-24T08:51:42.345399Z"
    }
   },
   "cell_type": "code",
   "source": [
    "graph = rdflib.Graph()\n",
    "graph.parse(\"dataset/14_graph.nt\", format=\"turtle\")"
   ],
   "id": "4f41a7695c2936a6",
   "outputs": [
    {
     "data": {
      "text/plain": [
       "<Graph identifier=Nf7c6d06742a64776b33829c998a0244a (<class 'rdflib.graph.Graph'>)>"
      ]
     },
     "execution_count": 2,
     "metadata": {},
     "output_type": "execute_result"
    }
   ],
   "execution_count": 2
  },
  {
   "metadata": {
    "ExecuteTime": {
     "end_time": "2024-10-24T09:30:57.334336Z",
     "start_time": "2024-10-24T09:30:54.385022Z"
    }
   },
   "cell_type": "code",
   "source": "predicates = list(graph.predicates())",
   "id": "9186011bff634da1",
   "outputs": [],
   "execution_count": 42
  },
  {
   "metadata": {
    "ExecuteTime": {
     "end_time": "2024-10-24T09:17:01.962726Z",
     "start_time": "2024-10-24T09:17:01.948785Z"
    }
   },
   "cell_type": "code",
   "source": [
    "with open(\"predicates.pkl\", \"wb\") as f:\n",
    "    pickle.dump(predicates, f)"
   ],
   "id": "3aa6874b4236fedd",
   "outputs": [],
   "execution_count": 23
  },
  {
   "metadata": {
    "ExecuteTime": {
     "end_time": "2024-10-24T09:17:11.017289Z",
     "start_time": "2024-10-24T09:17:11.011306Z"
    }
   },
   "cell_type": "code",
   "source": [
    "with open(\"predicates.pkl\", \"rb\") as f:\n",
    "    loaded_predicates = pickle.load(f)\n",
    "\n",
    "print(loaded_predicates)"
   ],
   "id": "8a3eebdd2f28e89",
   "outputs": [
    {
     "name": "stdout",
     "output_type": "stream",
     "text": [
      "[rdflib.term.URIRef('http://www.wikidata.org/prop/direct/P18'), rdflib.term.URIRef('http://www.wikidata.org/prop/direct/P161'), rdflib.term.URIRef('http://www.wikidata.org/prop/direct/P161'), rdflib.term.URIRef('http://schema.org/description'), rdflib.term.URIRef('http://www.wikidata.org/prop/direct/P161'), rdflib.term.URIRef('http://www.wikidata.org/prop/direct/P3216'), rdflib.term.URIRef('http://www.wikidata.org/prop/direct/P1441'), rdflib.term.URIRef('http://www.wikidata.org/prop/direct/P50'), rdflib.term.URIRef('http://www.wikidata.org/prop/direct/P175'), rdflib.term.URIRef('http://www.w3.org/2000/01/rdf-schema#label'), rdflib.term.URIRef('http://www.wikidata.org/prop/direct/P1346'), rdflib.term.URIRef('http://www.wikidata.org/prop/direct/P5021'), rdflib.term.URIRef('http://www.wikidata.org/prop/direct/P161'), rdflib.term.URIRef('http://www.wikidata.org/prop/direct/P58'), rdflib.term.URIRef('http://www.wikidata.org/prop/direct/P136'), rdflib.term.URIRef('http://www.wikidata.org/prop/direct/P136'), rdflib.term.URIRef('http://www.wikidata.org/prop/direct/P26'), rdflib.term.URIRef('http://www.wikidata.org/prop/direct/P136'), rdflib.term.URIRef('http://www.wikidata.org/prop/direct/P31'), rdflib.term.URIRef('http://schema.org/description'), rdflib.term.URIRef('http://www.wikidata.org/prop/direct/P136'), rdflib.term.URIRef('http://www.wikidata.org/prop/direct/P27'), rdflib.term.URIRef('http://www.wikidata.org/prop/direct/P57'), rdflib.term.URIRef('http://www.wikidata.org/prop/direct/P1080'), rdflib.term.URIRef('http://www.wikidata.org/prop/direct/P161'), rdflib.term.URIRef('http://www.wikidata.org/prop/direct/P345'), rdflib.term.URIRef('http://www.wikidata.org/prop/direct/P345'), rdflib.term.URIRef('http://www.wikidata.org/prop/direct/P495'), rdflib.term.URIRef('http://www.wikidata.org/prop/direct/P106'), rdflib.term.URIRef('http://www.wikidata.org/prop/direct/P345'), rdflib.term.URIRef('http://www.w3.org/2000/01/rdf-schema#label'), rdflib.term.URIRef('http://www.wikidata.org/prop/direct/P106'), rdflib.term.URIRef('http://www.wikidata.org/prop/direct/P577'), rdflib.term.URIRef('http://www.wikidata.org/prop/direct/P57'), rdflib.term.URIRef('http://www.wikidata.org/prop/direct/P26'), rdflib.term.URIRef('http://www.wikidata.org/prop/direct/P27'), rdflib.term.URIRef('http://www.wikidata.org/prop/direct/P725'), rdflib.term.URIRef('http://www.wikidata.org/prop/direct/P101'), rdflib.term.URIRef('http://schema.org/description'), rdflib.term.URIRef('http://www.wikidata.org/prop/direct/P921'), rdflib.term.URIRef('http://www.wikidata.org/prop/direct/P495'), rdflib.term.URIRef('http://www.wikidata.org/prop/direct/P106'), rdflib.term.URIRef('http://www.w3.org/2000/01/rdf-schema#label'), rdflib.term.URIRef('http://www.w3.org/2000/01/rdf-schema#label'), rdflib.term.URIRef('http://schema.org/description'), rdflib.term.URIRef('http://www.wikidata.org/prop/direct/P17'), rdflib.term.URIRef('http://www.wikidata.org/prop/direct/P272'), rdflib.term.URIRef('http://www.wikidata.org/prop/direct/P31'), rdflib.term.URIRef('http://www.wikidata.org/prop/direct/P161'), rdflib.term.URIRef('http://www.wikidata.org/prop/direct/P31'), rdflib.term.URIRef('http://www.wikidata.org/prop/direct/P106'), rdflib.term.URIRef('http://www.wikidata.org/prop/direct/P161'), rdflib.term.URIRef('http://www.wikidata.org/prop/direct/P345'), rdflib.term.URIRef('http://www.wikidata.org/prop/direct/P161'), rdflib.term.URIRef('http://www.wikidata.org/prop/direct/P106'), rdflib.term.URIRef('http://www.wikidata.org/prop/direct/P131'), rdflib.term.URIRef('http://www.wikidata.org/prop/direct/P58'), rdflib.term.URIRef('http://www.wikidata.org/prop/direct/P1412'), rdflib.term.URIRef('http://www.wikidata.org/prop/direct/P106'), rdflib.term.URIRef('http://www.wikidata.org/prop/direct/P345'), rdflib.term.URIRef('http://www.wikidata.org/prop/direct/P106'), rdflib.term.URIRef('http://www.wikidata.org/prop/direct/P161'), rdflib.term.URIRef('http://www.w3.org/2000/01/rdf-schema#label'), rdflib.term.URIRef('http://www.wikidata.org/prop/direct/P279'), rdflib.term.URIRef('http://www.w3.org/2000/01/rdf-schema#label'), rdflib.term.URIRef('http://www.wikidata.org/prop/direct/P4969'), rdflib.term.URIRef('http://www.wikidata.org/prop/direct/P57'), rdflib.term.URIRef('http://www.wikidata.org/prop/direct/P26'), rdflib.term.URIRef('http://www.wikidata.org/prop/direct/P407'), rdflib.term.URIRef('http://www.wikidata.org/prop/direct/P31'), rdflib.term.URIRef('http://www.wikidata.org/prop/direct/P19'), rdflib.term.URIRef('http://www.w3.org/2000/01/rdf-schema#label'), rdflib.term.URIRef('http://www.wikidata.org/prop/direct/P495'), rdflib.term.URIRef('http://www.wikidata.org/prop/direct/P1412'), rdflib.term.URIRef('http://www.wikidata.org/prop/direct/P161'), rdflib.term.URIRef('http://www.wikidata.org/prop/direct/P136'), rdflib.term.URIRef('http://schema.org/description'), rdflib.term.URIRef('http://www.wikidata.org/prop/direct/P106'), rdflib.term.URIRef('http://www.wikidata.org/prop/direct/P27'), rdflib.term.URIRef('http://www.wikidata.org/prop/direct/P345'), rdflib.term.URIRef('http://www.wikidata.org/prop/direct/P166'), rdflib.term.URIRef('http://www.wikidata.org/prop/direct/P31'), rdflib.term.URIRef('http://ddis.ch/atai/tag'), rdflib.term.URIRef('http://www.wikidata.org/prop/direct/P364'), rdflib.term.URIRef('http://www.wikidata.org/prop/direct/P57'), rdflib.term.URIRef('http://www.w3.org/2000/01/rdf-schema#label'), rdflib.term.URIRef('http://www.wikidata.org/prop/direct/P344'), rdflib.term.URIRef('http://www.wikidata.org/prop/direct/P31'), rdflib.term.URIRef('http://www.wikidata.org/prop/direct/P345'), rdflib.term.URIRef('http://www.wikidata.org/prop/direct/P345'), rdflib.term.URIRef('http://www.w3.org/2000/01/rdf-schema#label'), rdflib.term.URIRef('http://www.wikidata.org/prop/direct/P106'), rdflib.term.URIRef('http://ddis.ch/atai/tag'), rdflib.term.URIRef('http://www.w3.org/2000/01/rdf-schema#label'), rdflib.term.URIRef('http://schema.org/description'), rdflib.term.URIRef('http://www.wikidata.org/prop/direct/P1412'), rdflib.term.URIRef('http://schema.org/description'), rdflib.term.URIRef('http://www.wikidata.org/prop/direct/P344'), rdflib.term.URIRef('http://www.w3.org/2000/01/rdf-schema#label'), rdflib.term.URIRef('http://www.wikidata.org/prop/direct/P1981'), rdflib.term.URIRef('http://www.wikidata.org/prop/direct/P31'), rdflib.term.URIRef('http://www.wikidata.org/prop/direct/P106'), rdflib.term.URIRef('http://www.wikidata.org/prop/direct/P31'), rdflib.term.URIRef('http://www.wikidata.org/prop/direct/P161'), rdflib.term.URIRef('http://schema.org/description'), rdflib.term.URIRef('http://www.wikidata.org/prop/direct/P495'), rdflib.term.URIRef('http://www.wikidata.org/prop/direct/P530'), rdflib.term.URIRef('http://www.w3.org/2000/01/rdf-schema#label'), rdflib.term.URIRef('http://www.wikidata.org/prop/direct/P161'), rdflib.term.URIRef('http://www.w3.org/2000/01/rdf-schema#label'), rdflib.term.URIRef('http://www.wikidata.org/prop/direct/P31'), rdflib.term.URIRef('http://www.wikidata.org/prop/direct/P136'), rdflib.term.URIRef('http://schema.org/description'), rdflib.term.URIRef('http://www.wikidata.org/prop/direct/P344'), rdflib.term.URIRef('http://www.wikidata.org/prop/direct/P1441'), rdflib.term.URIRef('http://www.wikidata.org/prop/direct/P345'), rdflib.term.URIRef('http://www.wikidata.org/prop/direct/P166'), rdflib.term.URIRef('http://schema.org/description'), rdflib.term.URIRef('http://www.wikidata.org/prop/direct/P1552'), rdflib.term.URIRef('http://www.wikidata.org/prop/direct/P1441'), rdflib.term.URIRef('http://www.wikidata.org/prop/direct/P345'), rdflib.term.URIRef('http://www.wikidata.org/prop/direct/P750'), rdflib.term.URIRef('http://www.wikidata.org/prop/direct/P161'), rdflib.term.URIRef('http://www.wikidata.org/prop/direct/P106'), rdflib.term.URIRef('http://www.wikidata.org/prop/direct/P345'), rdflib.term.URIRef('http://www.wikidata.org/prop/direct/P725'), rdflib.term.URIRef('http://schema.org/description'), rdflib.term.URIRef('http://www.wikidata.org/prop/direct/P161'), rdflib.term.URIRef('http://www.wikidata.org/prop/direct/P577'), rdflib.term.URIRef('http://www.w3.org/2000/01/rdf-schema#label'), rdflib.term.URIRef('http://www.wikidata.org/prop/direct/P27'), rdflib.term.URIRef('http://www.wikidata.org/prop/direct/P3650'), rdflib.term.URIRef('http://schema.org/description'), rdflib.term.URIRef('http://www.wikidata.org/prop/direct/P437'), rdflib.term.URIRef('http://www.wikidata.org/prop/direct/P58'), rdflib.term.URIRef('http://www.wikidata.org/prop/direct/P161'), rdflib.term.URIRef('http://www.wikidata.org/prop/direct/P941'), rdflib.term.URIRef('http://www.wikidata.org/prop/direct/P31'), rdflib.term.URIRef('http://www.wikidata.org/prop/direct/P136'), rdflib.term.URIRef('http://www.wikidata.org/prop/direct/P462'), rdflib.term.URIRef('http://www.wikidata.org/prop/direct/P136'), rdflib.term.URIRef('http://www.wikidata.org/prop/direct/P437'), rdflib.term.URIRef('http://www.wikidata.org/prop/direct/P161'), rdflib.term.URIRef('http://www.wikidata.org/prop/direct/P5970'), rdflib.term.URIRef('http://www.wikidata.org/prop/direct/P1412'), rdflib.term.URIRef('http://www.wikidata.org/prop/direct/P19'), rdflib.term.URIRef('http://www.wikidata.org/prop/direct/P364'), rdflib.term.URIRef('http://www.wikidata.org/prop/direct/P1411'), rdflib.term.URIRef('http://www.wikidata.org/prop/direct/P4805'), rdflib.term.URIRef('http://www.wikidata.org/prop/direct/P20'), rdflib.term.URIRef('http://www.wikidata.org/prop/direct/P136'), rdflib.term.URIRef('http://www.wikidata.org/prop/direct/P840'), rdflib.term.URIRef('http://www.wikidata.org/prop/direct/P18'), rdflib.term.URIRef('http://www.wikidata.org/prop/direct/P175'), rdflib.term.URIRef('http://www.w3.org/2000/01/rdf-schema#label'), rdflib.term.URIRef('http://www.wikidata.org/prop/direct/P156'), rdflib.term.URIRef('http://www.wikidata.org/prop/direct/P27'), rdflib.term.URIRef('http://www.wikidata.org/prop/direct/P106'), rdflib.term.URIRef('http://www.wikidata.org/prop/direct/P750'), rdflib.term.URIRef('http://www.wikidata.org/prop/direct/P161'), rdflib.term.URIRef('http://www.wikidata.org/prop/direct/P161'), rdflib.term.URIRef('http://www.w3.org/2000/01/rdf-schema#label'), rdflib.term.URIRef('http://www.wikidata.org/prop/direct/P58'), rdflib.term.URIRef('http://www.wikidata.org/prop/direct/P527'), rdflib.term.URIRef('http://www.wikidata.org/prop/direct/P577'), rdflib.term.URIRef('http://www.wikidata.org/prop/direct/P161'), rdflib.term.URIRef('http://www.wikidata.org/prop/direct/P136'), rdflib.term.URIRef('http://www.wikidata.org/prop/direct/P1981'), rdflib.term.URIRef('http://www.wikidata.org/prop/direct/P750'), rdflib.term.URIRef('http://www.wikidata.org/prop/direct/P27'), rdflib.term.URIRef('http://www.wikidata.org/prop/direct/P57'), rdflib.term.URIRef('http://ddis.ch/atai/tag'), rdflib.term.URIRef('http://www.wikidata.org/prop/direct/P161'), rdflib.term.URIRef('http://www.wikidata.org/prop/direct/P27'), rdflib.term.URIRef('http://www.wikidata.org/prop/direct/P119'), rdflib.term.URIRef('http://schema.org/description'), rdflib.term.URIRef('http://www.wikidata.org/prop/direct/P31'), rdflib.term.URIRef('http://www.wikidata.org/prop/direct/P103'), rdflib.term.URIRef('http://schema.org/description'), rdflib.term.URIRef('http://www.wikidata.org/prop/direct/P58'), rdflib.term.URIRef('http://www.wikidata.org/prop/direct/P19'), rdflib.term.URIRef('http://www.wikidata.org/prop/direct/P31'), rdflib.term.URIRef('http://www.wikidata.org/prop/direct/P495'), rdflib.term.URIRef('http://www.wikidata.org/prop/direct/P1346'), rdflib.term.URIRef('http://www.wikidata.org/prop/direct/P106'), rdflib.term.URIRef('http://www.wikidata.org/prop/direct/P551'), rdflib.term.URIRef('http://www.wikidata.org/prop/direct/P27'), rdflib.term.URIRef('http://schema.org/description'), rdflib.term.URIRef('http://www.wikidata.org/prop/direct/P136'), rdflib.term.URIRef('http://www.wikidata.org/prop/direct/P1412'), rdflib.term.URIRef('http://www.wikidata.org/prop/direct/P495'), rdflib.term.URIRef('http://www.wikidata.org/prop/direct/P19'), rdflib.term.URIRef('http://www.wikidata.org/prop/direct/P3650'), rdflib.term.URIRef('http://www.wikidata.org/prop/direct/P161'), rdflib.term.URIRef('http://www.wikidata.org/prop/direct/P345'), rdflib.term.URIRef('http://www.wikidata.org/prop/direct/P345'), rdflib.term.URIRef('http://schema.org/description'), rdflib.term.URIRef('http://schema.org/description'), rdflib.term.URIRef('http://www.wikidata.org/prop/direct/P106'), rdflib.term.URIRef('http://www.wikidata.org/prop/direct/P31')]\n"
     ]
    }
   ],
   "execution_count": 25
  },
  {
   "metadata": {
    "ExecuteTime": {
     "end_time": "2024-10-24T09:54:31.473749Z",
     "start_time": "2024-10-24T09:54:29.007822Z"
    }
   },
   "cell_type": "code",
   "source": [
    "result = []\n",
    "for uri in predicates[:300]:\n",
    "    property_id = split_uri(uri)[1]\n",
    "    \n",
    "    query = f\"\"\"\n",
    "        PREFIX wdt: <http://www.wikidata.org/prop/direct/> \n",
    "        SELECT ?propertyLabel WHERE {{\n",
    "          wdt:{property_id} rdfs:label ?propertyLabel .\n",
    "          FILTER(LANG(?propertyLabel) = \"en\")\n",
    "        }}\n",
    "        LIMIT 1\n",
    "        \"\"\"\n",
    "    \n",
    "    res = graph.query(query)\n",
    "    result.append([str(s) for s, in res])\n",
    "print(result)"
   ],
   "id": "4a8040c0913b474e",
   "outputs": [
    {
     "name": "stdout",
     "output_type": "stream",
     "text": [
      "[['image'], ['cast member'], ['cast member'], [], ['cast member'], ['ClassInd rating'], ['present in work'], ['author'], ['performer'], [], ['winner'], ['assessment'], ['cast member'], ['screenwriter'], ['genre'], ['genre'], ['spouse'], ['genre'], ['instance of'], [], ['genre'], ['country of citizenship'], ['director'], ['from narrative universe'], ['cast member'], ['IMDb ID'], ['IMDb ID'], ['country of origin'], ['occupation'], ['IMDb ID'], [], ['occupation'], ['publication date'], ['director'], ['spouse'], ['country of citizenship'], ['voice actor'], ['field of work'], [], ['main subject'], ['country of origin'], ['occupation'], [], [], [], ['country'], ['production company'], ['instance of'], ['cast member'], ['instance of'], ['occupation'], ['cast member'], ['IMDb ID'], ['cast member'], ['occupation'], ['located in the administrative territorial entity'], ['screenwriter'], ['languages spoken, written or signed'], ['occupation'], ['IMDb ID'], ['occupation'], ['cast member'], [], ['subclass of'], [], ['derivative work'], ['director'], ['spouse'], ['language of work or name'], ['instance of'], ['place of birth'], [], ['country of origin'], ['languages spoken, written or signed'], ['cast member'], ['genre'], [], ['occupation'], ['country of citizenship'], ['IMDb ID'], ['award received'], ['instance of'], [], ['original language of film or TV show'], ['director'], [], ['director of photography'], ['instance of'], ['IMDb ID'], ['IMDb ID'], [], ['occupation'], [], [], [], ['languages spoken, written or signed'], [], ['director of photography'], [], ['FSK film rating'], ['instance of'], ['occupation'], ['instance of'], ['cast member'], [], ['country of origin'], ['diplomatic relation'], [], ['cast member'], [], ['instance of'], ['genre'], [], ['director of photography'], ['present in work'], ['IMDb ID'], ['award received'], [], ['has quality'], ['present in work'], ['IMDb ID'], ['distributed by'], ['cast member'], ['occupation'], ['IMDb ID'], ['voice actor'], [], ['cast member'], ['publication date'], [], ['country of citizenship'], ['JMK film rating'], [], ['distribution format'], ['screenwriter'], ['cast member'], ['inspired by'], ['instance of'], ['genre'], ['color'], ['genre'], ['distribution format'], ['cast member'], ['Medierådet rating'], ['languages spoken, written or signed'], ['place of birth'], ['original language of film or TV show'], ['nominated for'], ['make-up artist'], ['place of death'], ['genre'], ['narrative location'], ['image'], ['performer'], [], ['followed by'], ['country of citizenship'], ['occupation'], ['distributed by'], ['cast member'], ['cast member'], [], ['screenwriter'], ['has part'], ['publication date'], ['cast member'], ['genre'], ['FSK film rating'], ['distributed by'], ['country of citizenship'], ['director'], [], ['cast member'], ['country of citizenship'], ['place of burial'], [], ['instance of'], ['native language'], [], ['screenwriter'], ['place of birth'], ['instance of'], ['country of origin'], ['winner'], ['occupation'], ['residence'], ['country of citizenship'], [], ['genre'], ['languages spoken, written or signed'], ['country of origin'], ['place of birth'], ['JMK film rating'], ['cast member'], ['IMDb ID'], ['IMDb ID'], [], [], ['occupation'], ['instance of'], [], ['takes place in fictional universe'], ['original language of film or TV show'], ['IMDb ID'], ['instance of'], ['place of birth'], ['director of photography'], ['FSK film rating'], ['country of citizenship'], [], [], ['IMDb ID'], ['assessment'], ['Medierådet rating'], ['place of birth'], ['image'], ['nominated for'], [], ['instance of'], ['cast member'], ['country of citizenship'], ['instance of'], ['place of death'], ['genre'], [], ['occupation'], ['cast member'], [], [], ['country of citizenship'], [], ['IMDb ID'], ['place of birth'], ['cast member'], ['languages spoken, written or signed'], ['country of citizenship'], ['cast member'], ['cast member'], ['narrative location'], [], ['distribution format'], ['occupation'], ['box office'], ['production company'], ['IMDb ID'], ['publication date'], [], ['original film format'], ['assessment'], ['instance of'], ['instance of'], ['place of birth'], ['image'], ['color'], [], ['country of origin'], ['IMDb ID'], ['color'], ['instance of'], ['cast member'], ['languages spoken, written or signed'], [], ['instance of'], ['instance of'], ['IMDb ID'], ['place of birth'], ['genre'], ['country of citizenship'], ['image'], ['assessment'], [], ['mother'], ['nominated for'], ['cast member'], ['characters'], ['cast member'], ['distributed by'], [], [], ['director'], ['instance of'], [], [], ['IMDb ID'], ['described by source'], ['screenwriter'], ['country of origin'], ['production company'], ['IMDb ID'], [], ['country of citizenship'], ['place of death'], [], ['educated at'], ['FSK film rating'], ['cast member'], ['cast member'], ['cast member'], [], []]\n"
     ]
    }
   ],
   "execution_count": 45
  },
  {
   "metadata": {},
   "cell_type": "code",
   "outputs": [],
   "execution_count": null,
   "source": "",
   "id": "54a63ed71dbdfc43"
  }
 ],
 "metadata": {
  "kernelspec": {
   "display_name": "Python 3",
   "language": "python",
   "name": "python3"
  },
  "language_info": {
   "codemirror_mode": {
    "name": "ipython",
    "version": 2
   },
   "file_extension": ".py",
   "mimetype": "text/x-python",
   "name": "python",
   "nbconvert_exporter": "python",
   "pygments_lexer": "ipython2",
   "version": "2.7.6"
  }
 },
 "nbformat": 4,
 "nbformat_minor": 5
}
