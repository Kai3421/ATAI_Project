{
 "cells": [
  {
   "cell_type": "code",
   "id": "initial_id",
   "metadata": {
    "collapsed": true,
    "ExecuteTime": {
     "end_time": "2024-10-27T08:50:29.921517Z",
     "start_time": "2024-10-27T08:50:24.717339Z"
    }
   },
   "source": [
    "import pyparsing\n",
    "from speakeasypy import Speakeasy\n",
    "import rdflib\n",
    "from rdflib.namespace import split_uri\n",
    "from rdflib.namespace import Namespace, RDF, RDFS, XSD\n",
    "import pickle\n",
    "import os.path\n",
    "from chatbot.chatbot import ChatBot\n",
    "from data.knowledge_graph import KnowledgeGraph\n",
    "from language_processing.entity_relation_extraction import NamedEntityRecognizer, RelationExtractor"
   ],
   "outputs": [
    {
     "name": "stderr",
     "output_type": "stream",
     "text": [
      "C:\\Users\\Jacqueline\\.conda\\envs\\atai\\Lib\\site-packages\\tqdm\\auto.py:21: TqdmWarning: IProgress not found. Please update jupyter and ipywidgets. See https://ipywidgets.readthedocs.io/en/stable/user_install.html\n",
      "  from .autonotebook import tqdm as notebook_tqdm\n"
     ]
    }
   ],
   "execution_count": 1
  },
  {
   "metadata": {
    "ExecuteTime": {
     "end_time": "2024-10-27T08:52:31.681123Z",
     "start_time": "2024-10-27T08:50:30.703331Z"
    }
   },
   "cell_type": "code",
   "source": "knowledge_graph = KnowledgeGraph(\"data/14_graph.nt\")",
   "id": "4e388d28bfa059cf",
   "outputs": [
    {
     "name": "stdout",
     "output_type": "stream",
     "text": [
      "Setting up knowledge graph...\n",
      "Finished movie graph setup.\n"
     ]
    }
   ],
   "execution_count": 2
  },
  {
   "metadata": {
    "ExecuteTime": {
     "end_time": "2024-10-27T08:52:31.711016Z",
     "start_time": "2024-10-27T08:52:31.706059Z"
    }
   },
   "cell_type": "code",
   "source": [
    "predicates = list(knowledge_graph.predicate_map.values())\n",
    "print(knowledge_graph.predicate_map)\n",
    "print(len(predicates))\n",
    "predicates.sort()\n",
    "print(predicates)"
   ],
   "id": "a56716d19aad8021",
   "outputs": [
    {
     "name": "stdout",
     "output_type": "stream",
     "text": [
      "{'http://www.wikidata.org/prop/direct/P18': 'image', 'http://www.wikidata.org/prop/direct/P57': 'director', 'http://www.wikidata.org/prop/direct/P161': 'cast member', 'http://www.wikidata.org/prop/direct/P462': 'color', 'http://www.wikidata.org/prop/direct/P3092': 'film crew member', 'http://www.wikidata.org/prop/direct/P361': 'part of', 'http://www.wikidata.org/prop/direct/P345': 'IMDb ID', 'http://www.wikidata.org/prop/direct/P750': 'distributed by', 'http://www.wikidata.org/prop/direct/P921': 'main subject', 'http://www.wikidata.org/prop/direct/P31': 'instance of', 'http://www.wikidata.org/prop/direct/P58': 'screenwriter', 'http://schema.org/description': 'node description', 'http://www.wikidata.org/prop/direct/P22': 'father', 'http://www.wikidata.org/prop/direct/P1981': 'FSK film rating', 'http://www.w3.org/2000/01/rdf-schema#label': 'node label', 'http://www.wikidata.org/prop/direct/P106': 'occupation', 'http://www.wikidata.org/prop/direct/P1441': 'present in work', 'http://www.wikidata.org/prop/direct/P69': 'educated at', 'http://www.wikidata.org/prop/direct/P25': 'mother', 'http://www.wikidata.org/prop/direct/P27': 'country of citizenship', 'http://www.wikidata.org/prop/direct/P364': 'original language of film or TV show', 'http://www.wikidata.org/prop/direct/P19': 'place of birth', 'http://www.wikidata.org/prop/direct/P6886': 'writing language', 'http://www.wikidata.org/prop/direct/P40': 'child', 'http://www.wikidata.org/prop/direct/P725': 'voice actor', 'http://www.wikidata.org/prop/direct/P937': 'work location', 'http://www.wikidata.org/prop/direct/P136': 'genre', 'http://www.wikidata.org/prop/direct/P1411': 'nominated for', 'http://www.wikidata.org/prop/direct/P272': 'production company', 'http://www.wikidata.org/prop/direct/P495': 'country of origin', 'http://www.wikidata.org/prop/direct/P1412': 'languages spoken, written or signed', 'http://www.wikidata.org/prop/direct/P20': 'place of death', 'http://www.wikidata.org/prop/direct/P344': 'director of photography', 'http://www.wikidata.org/prop/direct/P577': 'publication date', 'http://www.wikidata.org/prop/direct/P103': 'native language', 'http://www.wikidata.org/prop/direct/P6942': 'animator', 'http://www.wikidata.org/prop/direct/P530': 'diplomatic relation', 'http://www.wikidata.org/prop/direct/P437': 'distribution format', 'http://www.wikidata.org/prop/direct/P170': 'creator', 'http://www.wikidata.org/prop/direct/P1431': 'executive producer', 'http://www.wikidata.org/prop/direct/P2758': 'CNC film rating (France)', 'http://www.wikidata.org/prop/direct/P4969': 'derivative work', 'http://www.wikidata.org/prop/direct/P1040': 'film editor', 'http://www.wikidata.org/prop/direct/P166': 'award received', 'http://www.wikidata.org/prop/direct/P108': 'employer', 'http://www.wikidata.org/prop/direct/P144': 'based on', 'http://www.wikidata.org/prop/direct/P800': 'notable work', 'http://www.wikidata.org/prop/direct/P3306': 'ICAA rating', 'http://www.wikidata.org/prop/direct/P2684': 'Kijkwijzer rating', 'http://www.wikidata.org/prop/direct/P3402': 'CNC film rating (Romania)', 'http://www.wikidata.org/prop/direct/P175': 'performer', 'http://www.wikidata.org/prop/direct/P8411': 'set in environment', 'http://www.wikidata.org/prop/direct/P1344': 'participant in', 'http://www.wikidata.org/prop/direct/P35': 'head of state', 'http://www.wikidata.org/prop/direct/P710': 'participant', 'http://www.wikidata.org/prop/direct/P915': 'filming location', 'http://www.wikidata.org/prop/direct/P138': 'named after', 'http://www.wikidata.org/prop/direct/P1343': 'described by source', 'http://www.wikidata.org/prop/direct/P2061': 'aspect ratio', 'http://www.wikidata.org/prop/direct/P172': 'ethnic group', 'http://www.wikidata.org/prop/direct/P840': 'narrative location', 'http://www.wikidata.org/prop/direct/P26': 'spouse', 'http://www.wikidata.org/prop/direct/P9215': 'set during recurring event', 'http://www.wikidata.org/prop/direct/P1346': 'winner', 'http://www.wikidata.org/prop/direct/P5970': 'Medierådet rating', 'http://www.wikidata.org/prop/direct/P4608': 'scenographer', 'http://www.wikidata.org/prop/direct/P1657': 'MPAA film rating', 'http://www.wikidata.org/prop/direct/P1080': 'from narrative universe', 'http://www.wikidata.org/prop/direct/P2747': 'Filmiroda rating', 'http://www.wikidata.org/prop/direct/P127': 'owned by', 'http://www.wikidata.org/prop/direct/P509': 'cause of death', 'http://www.wikidata.org/prop/direct/P460': 'said to be the same as', 'http://www.wikidata.org/prop/direct/P407': 'language of work or name', 'http://www.wikidata.org/prop/direct/P1066': 'student of', 'http://www.wikidata.org/prop/direct/P1877': 'after a work by', 'http://www.wikidata.org/prop/direct/P159': 'headquarters location', 'http://www.wikidata.org/prop/direct/P674': 'characters', 'http://www.wikidata.org/prop/direct/P1142': 'political ideology', 'http://www.wikidata.org/prop/direct/P179': 'part of the series', 'http://www.wikidata.org/prop/direct/P4584': 'first appearance', 'http://www.wikidata.org/prop/direct/P1434': 'takes place in fictional universe', 'http://www.wikidata.org/prop/direct/P451': 'unmarried partner', 'http://www.wikidata.org/prop/direct/P2515': 'costume designer', 'http://www.wikidata.org/prop/direct/P155': 'follows', 'http://www.wikidata.org/prop/direct/P17': 'country', 'http://www.wikidata.org/prop/direct/P8874': 'Hong Kong film rating', 'http://www.wikidata.org/prop/direct/P3275': 'storyboard artist', 'http://www.wikidata.org/prop/direct/P793': 'significant event', 'http://www.wikidata.org/prop/direct/P2936': 'language used', 'http://www.wikidata.org/prop/direct/P1196': 'manner of death', 'http://www.wikidata.org/prop/direct/P3373': 'sibling', 'http://www.wikidata.org/prop/direct/P551': 'residence', 'http://www.wikidata.org/prop/direct/P5201': 'IMDA rating', 'http://www.wikidata.org/prop/direct/P5021': 'assessment', 'http://www.wikidata.org/prop/direct/P1889': 'different from', 'http://www.wikidata.org/prop/direct/P2554': 'production designer', 'http://www.wikidata.org/prop/direct/P21': 'sex or gender', 'http://www.wikidata.org/prop/direct/P6962': 'narrative motif', 'http://www.wikidata.org/prop/direct/P737': 'influenced by', 'http://www.wikidata.org/prop/direct/P2363': 'NMHH film rating', 'http://www.wikidata.org/prop/direct/P3834': 'RTC film rating', 'http://www.wikidata.org/prop/direct/P527': 'has part', 'http://www.wikidata.org/prop/direct/P119': 'place of burial', 'http://www.wikidata.org/prop/direct/P1552': 'has quality', 'http://www.wikidata.org/prop/direct/P4908': 'season', 'http://www.wikidata.org/prop/direct/P2283': 'uses', 'http://www.wikidata.org/prop/direct/P195': 'collection', 'http://www.wikidata.org/prop/direct/P8345': 'media franchise', 'http://www.wikidata.org/prop/direct/P156': 'followed by', 'http://www.wikidata.org/prop/direct/P3216': 'ClassInd rating', 'http://www.wikidata.org/prop/direct/P37': 'official language', 'http://www.wikidata.org/prop/direct/P2629': 'BBFC rating', 'http://www.wikidata.org/prop/direct/P2546': 'sidekick of', 'http://www.wikidata.org/prop/direct/P30': 'continent', 'http://www.wikidata.org/prop/direct/P641': 'sport', 'http://www.wikidata.org/prop/direct/P50': 'author', 'http://www.wikidata.org/prop/direct/P452': 'industry', 'http://www.wikidata.org/prop/direct/P5028': 'sound designer', 'http://www.wikidata.org/prop/direct/P190': 'twinned administrative body', 'http://www.wikidata.org/prop/direct/P6275': 'copyright representative', 'http://www.wikidata.org/prop/direct/P607': 'conflict', 'http://www.wikidata.org/prop/direct/P2408': 'set in period', 'http://www.wikidata.org/prop/direct/P767': 'contributor to the creative work or subject', 'http://www.wikidata.org/prop/direct/P7937': 'form of creative work', 'http://www.wikidata.org/prop/direct/P47': 'shares border with', 'http://www.wikidata.org/prop/direct/P2348': 'time period', 'http://www.wikidata.org/prop/direct/P1532': 'country for sport', 'http://www.wikidata.org/prop/direct/P101': 'field of work', 'http://www.wikidata.org/prop/direct/P279': 'subclass of', 'http://www.wikidata.org/prop/direct/P112': 'founded by', 'http://www.wikidata.org/prop/direct/P140': 'religion', 'http://www.wikidata.org/prop/direct/P2756': 'EIRIN film rating', 'http://www.wikidata.org/prop/direct/P91': 'sexual orientation', 'http://www.wikidata.org/prop/direct/P7573': 'IFCO rating', 'http://www.wikidata.org/prop/direct/P1027': 'conferred by', 'http://www.wikidata.org/prop/direct/P400': 'platform', 'http://www.wikidata.org/prop/direct/P941': 'inspired by', 'http://www.wikidata.org/prop/direct/P6379': 'has works in the collection', 'http://www.wikidata.org/prop/direct/P3842': 'located in present-day administrative territorial entity', 'http://www.wikidata.org/prop/direct/P123': 'publisher', 'http://www.wikidata.org/prop/direct/P3803': 'original film format', 'http://www.wikidata.org/prop/direct/P449': 'original broadcaster', 'http://www.wikidata.org/prop/direct/P1830': 'owner of', 'http://www.wikidata.org/prop/direct/P5150': 'IGAC rating', 'http://www.wikidata.org/prop/direct/P131': 'located in the administrative territorial entity', 'http://www.wikidata.org/prop/direct/P2438': 'narrator', 'http://www.wikidata.org/prop/direct/P1445': 'fictional universe described in', 'http://www.wikidata.org/prop/direct/P2142': 'box office', 'http://www.wikidata.org/prop/direct/P2637': 'RARS rating', 'http://www.wikidata.org/prop/direct/P735': 'given name', 'http://www.wikidata.org/prop/direct/P2563': 'superhuman feature or ability', 'http://www.wikidata.org/prop/direct/P6658': 'RCQ classification', 'http://www.wikidata.org/prop/direct/P3156': 'Australian Classification', 'http://www.wikidata.org/prop/direct/P463': 'member of', 'http://www.wikidata.org/prop/direct/P6': 'head of government', 'http://www.wikidata.org/prop/direct/P1056': 'product or material produced', 'http://www.wikidata.org/prop/direct/P276': 'location', 'http://www.wikidata.org/prop/direct/P36': 'capital', 'http://www.wikidata.org/prop/direct/P3650': 'JMK film rating', 'http://www.wikidata.org/prop/direct/P2360': 'intended public', 'http://www.wikidata.org/prop/direct/P1327': 'partner in business or sport', 'http://www.wikidata.org/prop/direct/P1376': 'capital of', 'http://www.wikidata.org/prop/direct/P7959': 'historic county', 'http://www.wikidata.org/prop/direct/P425': 'field of this occupation', 'http://www.wikidata.org/prop/direct/P6216': 'copyright status', 'http://www.wikidata.org/prop/direct/P8889': 'MTRCB rating', 'http://www.wikidata.org/prop/direct/P2079': 'fabrication method', 'http://www.wikidata.org/prop/direct/P291': 'place of publication', 'http://www.wikidata.org/prop/direct/P150': 'contains administrative territorial entity', 'http://www.wikidata.org/prop/direct/P461': 'opposite of', 'http://www.wikidata.org/prop/direct/P178': 'developer', 'http://www.wikidata.org/prop/direct/P945': 'allegiance', 'http://www.wikidata.org/prop/direct/P3301': 'broadcast by', 'http://www.wikidata.org/prop/direct/P1382': 'partially coincident with', 'http://www.wikidata.org/prop/direct/P2632': 'place of detention', 'http://www.wikidata.org/prop/direct/P3428': 'INCAA film rating', 'http://www.wikidata.org/prop/direct/P9086': 'BAMID film rating', 'http://www.wikidata.org/prop/direct/P1365': 'replaces', 'http://www.wikidata.org/prop/direct/P740': 'location of formation', 'http://www.wikidata.org/prop/direct/P4437': 'FPB rating', 'http://www.wikidata.org/prop/direct/P1050': 'medical condition', 'http://www.wikidata.org/prop/direct/P8371': 'references work, tradition or theory', 'http://www.wikidata.org/prop/direct/P1038': 'relative', 'http://www.wikidata.org/prop/direct/P1299': 'depicted by', 'http://www.wikidata.org/prop/direct/P180': 'depicts', 'http://www.wikidata.org/prop/direct/P479': 'input method', 'http://www.wikidata.org/prop/direct/P1399': 'convicted of', 'http://www.wikidata.org/prop/direct/P1576': 'lifestyle', 'http://www.wikidata.org/prop/direct/P2341': 'indigenous to', 'http://www.wikidata.org/prop/direct/P1809': 'choreographer', 'http://www.wikidata.org/prop/direct/P1455': 'list of works', 'http://www.wikidata.org/prop/direct/P7047': 'enemy of', 'http://www.wikidata.org/prop/direct/P1001': 'applies to jurisdiction', 'http://www.wikidata.org/prop/direct/P135': 'movement', 'http://www.wikidata.org/prop/direct/P1416': 'affiliation', 'http://www.wikidata.org/prop/direct/P3342': 'significant person', 'http://www.wikidata.org/prop/direct/P1029': 'crew member(s)', 'http://www.wikidata.org/prop/direct/P137': 'operator', 'http://www.wikidata.org/prop/direct/P706': 'located on terrain feature', 'http://www.wikidata.org/prop/direct/P1165': 'home world', 'http://www.wikidata.org/prop/direct/P4805': 'make-up artist', 'http://www.wikidata.org/prop/direct/P1037': 'director / manager', 'http://www.wikidata.org/prop/direct/P802': 'student', 'http://www.wikidata.org/prop/direct/P629': 'edition or translation of', 'http://www.wikidata.org/prop/direct/P1269': 'facet of', 'http://www.wikidata.org/prop/direct/P206': 'located in or next to body of water', 'http://www.wikidata.org/prop/direct/P749': 'parent organization', 'http://www.wikidata.org/prop/direct/P5940': 'plot expanded in', 'http://www.wikidata.org/prop/direct/P1366': 'replaced by', 'http://www.wikidata.org/prop/direct/P241': 'military branch', 'http://www.wikidata.org/prop/direct/P3448': 'stepparent', 'http://www.wikidata.org/prop/direct/P5072': 'presented in', 'http://www.wikidata.org/prop/direct/P1429': 'has pet', 'http://www.wikidata.org/prop/direct/P3931': 'copyright holder', 'http://www.wikidata.org/prop/direct/P485': 'archives at', 'http://www.wikidata.org/prop/direct/P157': 'killed by', 'http://www.wikidata.org/prop/direct/P2416': 'sports discipline competed in', 'http://www.wikidata.org/prop/direct/P1995': 'health specialty', 'http://www.wikidata.org/prop/direct/P5096': 'member of the crew of', 'http://www.wikidata.org/prop/direct/P3818': 'KMRB film rating', 'http://www.wikidata.org/prop/direct/P1589': 'lowest point', 'http://www.wikidata.org/prop/direct/P306': 'operating system', 'http://www.wikidata.org/prop/direct/P2541': 'operating area', 'http://www.wikidata.org/prop/direct/P54': 'member of sports team', 'http://www.wikidata.org/prop/direct/P1875': 'represented by', 'http://www.wikidata.org/prop/direct/P828': 'has cause', 'http://www.wikidata.org/prop/direct/P1433': 'published in', 'http://www.wikidata.org/prop/direct/P1542': 'has effect', 'http://www.wikidata.org/prop/direct/P3174': 'art director', 'http://www.wikidata.org/prop/direct/P747': 'has edition or translation', 'http://www.wikidata.org/prop/direct/P205': 'basin country', 'http://www.wikidata.org/prop/direct/P3095': 'practiced by', 'http://www.wikidata.org/prop/direct/P3300': 'musical conductor', 'http://www.wikidata.org/prop/direct/P366': 'use', 'http://www.wikidata.org/prop/direct/P2650': 'interested in', 'http://www.wikidata.org/prop/direct/P263': 'official residence', 'http://www.wikidata.org/prop/direct/P825': 'dedicated to', 'http://www.wikidata.org/prop/direct/P832': 'public holiday', 'http://www.wikidata.org/prop/direct/P5389': 'permanent resident of', 'http://www.wikidata.org/prop/direct/P97': 'noble title', 'http://www.wikidata.org/prop/direct/P5152': 'KAVI rating', 'http://www.wikidata.org/prop/direct/P275': 'copyright license', 'http://www.wikidata.org/prop/direct/P8670': 'character designer', 'http://www.wikidata.org/prop/direct/P931': 'place served by transport hub', 'http://www.wikidata.org/prop/direct/P669': 'located on street', 'http://www.wikidata.org/prop/direct/P6166': 'quotes work', 'http://www.wikidata.org/prop/direct/P2860': 'cites work', 'http://www.wikidata.org/prop/direct/P7327': 'OFLC classification', 'http://www.wikidata.org/prop/direct/P287': 'designed by', 'http://www.wikidata.org/prop/direct/P371': 'presenter', 'http://www.wikidata.org/prop/direct/P466': 'occupant', 'http://www.wikidata.org/prop/direct/P7936': 'business model', 'http://www.wikidata.org/prop/direct/P66': 'ancestral home'}\n",
      "253\n",
      "['Australian Classification', 'BAMID film rating', 'BBFC rating', 'CNC film rating (France)', 'CNC film rating (Romania)', 'ClassInd rating', 'EIRIN film rating', 'FPB rating', 'FSK film rating', 'Filmiroda rating', 'Hong Kong film rating', 'ICAA rating', 'IFCO rating', 'IGAC rating', 'IMDA rating', 'IMDb ID', 'INCAA film rating', 'JMK film rating', 'KAVI rating', 'KMRB film rating', 'Kijkwijzer rating', 'MPAA film rating', 'MTRCB rating', 'Medierådet rating', 'NMHH film rating', 'OFLC classification', 'RARS rating', 'RCQ classification', 'RTC film rating', 'affiliation', 'after a work by', 'allegiance', 'ancestral home', 'animator', 'applies to jurisdiction', 'archives at', 'art director', 'aspect ratio', 'assessment', 'author', 'award received', 'based on', 'basin country', 'box office', 'broadcast by', 'business model', 'capital', 'capital of', 'cast member', 'cause of death', 'character designer', 'characters', 'child', 'choreographer', 'cites work', 'collection', 'color', 'conferred by', 'conflict', 'contains administrative territorial entity', 'continent', 'contributor to the creative work or subject', 'convicted of', 'copyright holder', 'copyright license', 'copyright representative', 'copyright status', 'costume designer', 'country', 'country for sport', 'country of citizenship', 'country of origin', 'creator', 'crew member(s)', 'dedicated to', 'depicted by', 'depicts', 'derivative work', 'described by source', 'designed by', 'developer', 'different from', 'diplomatic relation', 'director', 'director / manager', 'director of photography', 'distributed by', 'distribution format', 'edition or translation of', 'educated at', 'employer', 'enemy of', 'ethnic group', 'executive producer', 'fabrication method', 'facet of', 'father', 'fictional universe described in', 'field of this occupation', 'field of work', 'film crew member', 'film editor', 'filming location', 'first appearance', 'followed by', 'follows', 'form of creative work', 'founded by', 'from narrative universe', 'genre', 'given name', 'has cause', 'has edition or translation', 'has effect', 'has part', 'has pet', 'has quality', 'has works in the collection', 'head of government', 'head of state', 'headquarters location', 'health specialty', 'historic county', 'home world', 'image', 'indigenous to', 'industry', 'influenced by', 'input method', 'inspired by', 'instance of', 'intended public', 'interested in', 'killed by', 'language of work or name', 'language used', 'languages spoken, written or signed', 'lifestyle', 'list of works', 'located in or next to body of water', 'located in present-day administrative territorial entity', 'located in the administrative territorial entity', 'located on street', 'located on terrain feature', 'location', 'location of formation', 'lowest point', 'main subject', 'make-up artist', 'manner of death', 'media franchise', 'medical condition', 'member of', 'member of sports team', 'member of the crew of', 'military branch', 'mother', 'movement', 'musical conductor', 'named after', 'narrative location', 'narrative motif', 'narrator', 'native language', 'noble title', 'node description', 'node label', 'nominated for', 'notable work', 'occupant', 'occupation', 'official language', 'official residence', 'operating area', 'operating system', 'operator', 'opposite of', 'original broadcaster', 'original film format', 'original language of film or TV show', 'owned by', 'owner of', 'parent organization', 'part of', 'part of the series', 'partially coincident with', 'participant', 'participant in', 'partner in business or sport', 'performer', 'permanent resident of', 'place of birth', 'place of burial', 'place of death', 'place of detention', 'place of publication', 'place served by transport hub', 'platform', 'plot expanded in', 'political ideology', 'practiced by', 'present in work', 'presented in', 'presenter', 'product or material produced', 'production company', 'production designer', 'public holiday', 'publication date', 'published in', 'publisher', 'quotes work', 'references work, tradition or theory', 'relative', 'religion', 'replaced by', 'replaces', 'represented by', 'residence', 'said to be the same as', 'scenographer', 'screenwriter', 'season', 'set during recurring event', 'set in environment', 'set in period', 'sex or gender', 'sexual orientation', 'shares border with', 'sibling', 'sidekick of', 'significant event', 'significant person', 'sound designer', 'sport', 'sports discipline competed in', 'spouse', 'stepparent', 'storyboard artist', 'student', 'student of', 'subclass of', 'superhuman feature or ability', 'takes place in fictional universe', 'time period', 'twinned administrative body', 'unmarried partner', 'use', 'uses', 'voice actor', 'winner', 'work location', 'writing language']\n"
     ]
    }
   ],
   "execution_count": 3
  },
  {
   "metadata": {
    "ExecuteTime": {
     "end_time": "2024-10-27T08:52:32.284511Z",
     "start_time": "2024-10-27T08:52:31.764146Z"
    }
   },
   "cell_type": "code",
   "source": "named_entity_recognizer = NamedEntityRecognizer()",
   "id": "b0bda364bc4f1e8a",
   "outputs": [
    {
     "name": "stderr",
     "output_type": "stream",
     "text": [
      "Some weights of the model checkpoint at dslim/bert-base-NER were not used when initializing BertForTokenClassification: ['bert.pooler.dense.bias', 'bert.pooler.dense.weight']\n",
      "- This IS expected if you are initializing BertForTokenClassification from the checkpoint of a model trained on another task or with another architecture (e.g. initializing a BertForSequenceClassification model from a BertForPreTraining model).\n",
      "- This IS NOT expected if you are initializing BertForTokenClassification from the checkpoint of a model that you expect to be exactly identical (initializing a BertForSequenceClassification model from a BertForSequenceClassification model).\n",
      "Hardware accelerator e.g. GPU is available in the environment, but no `device` argument is passed to the `Pipeline` object. Model will be on CPU.\n"
     ]
    }
   ],
   "execution_count": 4
  },
  {
   "metadata": {
    "ExecuteTime": {
     "end_time": "2024-10-27T08:52:32.807264Z",
     "start_time": "2024-10-27T08:52:32.301165Z"
    }
   },
   "cell_type": "code",
   "source": "relation_extractor = RelationExtractor(predicates)",
   "id": "6e584740cb3d3a38",
   "outputs": [],
   "execution_count": 5
  },
  {
   "metadata": {
    "ExecuteTime": {
     "end_time": "2024-10-27T08:52:54.839211Z",
     "start_time": "2024-10-27T08:52:54.835222Z"
    }
   },
   "cell_type": "code",
   "source": [
    "question = \"Who directed the movie Good Will Hunting?\"\n",
    "question_new = 'When was \"The Godfather\" released?'"
   ],
   "id": "7051488633771a7e",
   "outputs": [],
   "execution_count": 12
  },
  {
   "metadata": {
    "ExecuteTime": {
     "end_time": "2024-10-27T08:52:55.187679Z",
     "start_time": "2024-10-27T08:52:55.131075Z"
    }
   },
   "cell_type": "code",
   "source": [
    "extracted_entities = named_entity_recognizer.extract_entities(question_new)\n",
    "print(\"__\", extracted_entities)"
   ],
   "id": "e9903adb5e43cd68",
   "outputs": [
    {
     "name": "stdout",
     "output_type": "stream",
     "text": [
      "__ ['The Godfather']\n"
     ]
    }
   ],
   "execution_count": 13
  },
  {
   "metadata": {
    "ExecuteTime": {
     "end_time": "2024-10-27T08:53:09.262757Z",
     "start_time": "2024-10-27T08:53:09.253164Z"
    }
   },
   "cell_type": "code",
   "source": [
    "extracted_relations = relation_extractor.extract_relations(question_new, extracted_entities)\n",
    "print(extracted_relations)\n",
    "extracted_relation = extracted_relations['released']['best_match']\n",
    "print(extracted_relation)"
   ],
   "id": "4878c4adf9c5556d",
   "outputs": [
    {
     "name": "stdout",
     "output_type": "stream",
     "text": [
      "{'released': {'best_match': 'replaces', 'edit_distance': 4}}\n",
      "replaces\n"
     ]
    }
   ],
   "execution_count": 16
  },
  {
   "metadata": {
    "ExecuteTime": {
     "end_time": "2024-10-27T08:53:10.722155Z",
     "start_time": "2024-10-27T08:53:10.208247Z"
    }
   },
   "cell_type": "code",
   "source": [
    "entity_uri = knowledge_graph.match_entity(extracted_entities)\n",
    "print(\"matched_entity:\", entity_uri)"
   ],
   "id": "f31eb71a4765adfe",
   "outputs": [
    {
     "name": "stdout",
     "output_type": "stream",
     "text": [
      "matched_entity: http://www.wikidata.org/entity/Q243556\n"
     ]
    }
   ],
   "execution_count": 17
  },
  {
   "metadata": {
    "ExecuteTime": {
     "end_time": "2024-10-27T08:53:10.819723Z",
     "start_time": "2024-10-27T08:53:10.813913Z"
    }
   },
   "cell_type": "code",
   "source": [
    "print(extracted_relation)\n",
    "relation_uri = knowledge_graph.match_predicate(extracted_relation)\n",
    "print(\"relation_uri\", relation_uri)"
   ],
   "id": "f4d7aefd0a2a4371",
   "outputs": [
    {
     "name": "stdout",
     "output_type": "stream",
     "text": [
      "replaces\n",
      "relation_uri http://www.wikidata.org/prop/direct/P1365\n"
     ]
    }
   ],
   "execution_count": 18
  },
  {
   "metadata": {
    "ExecuteTime": {
     "end_time": "2024-10-27T08:53:11.330606Z",
     "start_time": "2024-10-27T08:53:11.323394Z"
    }
   },
   "cell_type": "code",
   "source": "print(knowledge_graph.query_graph(entity_uri, relation_uri, False))",
   "id": "f84ed68a8c9faf6e",
   "outputs": [
    {
     "name": "stdout",
     "output_type": "stream",
     "text": [
      "[]\n"
     ]
    }
   ],
   "execution_count": 19
  },
  {
   "metadata": {},
   "cell_type": "code",
   "outputs": [],
   "execution_count": null,
   "source": "",
   "id": "eef3b5e1a19f2b49"
  },
  {
   "metadata": {},
   "cell_type": "code",
   "outputs": [],
   "execution_count": null,
   "source": "",
   "id": "45dd1956dc2a11bf"
  },
  {
   "metadata": {},
   "cell_type": "code",
   "outputs": [],
   "execution_count": null,
   "source": "",
   "id": "da8f5d1d0eb138f4"
  },
  {
   "metadata": {},
   "cell_type": "code",
   "outputs": [],
   "execution_count": null,
   "source": "",
   "id": "7031a277f37f7a43"
  },
  {
   "metadata": {},
   "cell_type": "code",
   "outputs": [],
   "execution_count": null,
   "source": "",
   "id": "7bdb1a4823e3dc61"
  },
  {
   "metadata": {
    "ExecuteTime": {
     "end_time": "2024-10-24T08:53:02.088961Z",
     "start_time": "2024-10-24T08:51:42.345399Z"
    }
   },
   "cell_type": "code",
   "source": [
    "graph = rdflib.Graph()\n",
    "graph.parse(\"dataset/14_graph.nt\", format=\"turtle\")"
   ],
   "id": "4f41a7695c2936a6",
   "outputs": [
    {
     "data": {
      "text/plain": [
       "<Graph identifier=Nf7c6d06742a64776b33829c998a0244a (<class 'rdflib.graph.Graph'>)>"
      ]
     },
     "execution_count": 2,
     "metadata": {},
     "output_type": "execute_result"
    }
   ],
   "execution_count": 2
  },
  {
   "metadata": {
    "ExecuteTime": {
     "end_time": "2024-10-24T09:30:57.334336Z",
     "start_time": "2024-10-24T09:30:54.385022Z"
    }
   },
   "cell_type": "code",
   "source": "predicates = list(graph.predicates())",
   "id": "9186011bff634da1",
   "outputs": [],
   "execution_count": 42
  },
  {
   "metadata": {
    "ExecuteTime": {
     "end_time": "2024-10-24T09:17:01.962726Z",
     "start_time": "2024-10-24T09:17:01.948785Z"
    }
   },
   "cell_type": "code",
   "source": [
    "with open(\"predicates.pkl\", \"wb\") as f:\n",
    "    pickle.dump(predicates, f)"
   ],
   "id": "3aa6874b4236fedd",
   "outputs": [],
   "execution_count": 23
  },
  {
   "metadata": {
    "ExecuteTime": {
     "end_time": "2024-10-24T09:17:11.017289Z",
     "start_time": "2024-10-24T09:17:11.011306Z"
    }
   },
   "cell_type": "code",
   "source": [
    "with open(\"predicates.pkl\", \"rb\") as f:\n",
    "    loaded_predicates = pickle.load(f)\n",
    "\n",
    "print(loaded_predicates)"
   ],
   "id": "8a3eebdd2f28e89",
   "outputs": [
    {
     "name": "stdout",
     "output_type": "stream",
     "text": [
      "[rdflib.term.URIRef('http://www.wikidata.org/prop/direct/P18'), rdflib.term.URIRef('http://www.wikidata.org/prop/direct/P161'), rdflib.term.URIRef('http://www.wikidata.org/prop/direct/P161'), rdflib.term.URIRef('http://schema.org/description'), rdflib.term.URIRef('http://www.wikidata.org/prop/direct/P161'), rdflib.term.URIRef('http://www.wikidata.org/prop/direct/P3216'), rdflib.term.URIRef('http://www.wikidata.org/prop/direct/P1441'), rdflib.term.URIRef('http://www.wikidata.org/prop/direct/P50'), rdflib.term.URIRef('http://www.wikidata.org/prop/direct/P175'), rdflib.term.URIRef('http://www.w3.org/2000/01/rdf-schema#label'), rdflib.term.URIRef('http://www.wikidata.org/prop/direct/P1346'), rdflib.term.URIRef('http://www.wikidata.org/prop/direct/P5021'), rdflib.term.URIRef('http://www.wikidata.org/prop/direct/P161'), rdflib.term.URIRef('http://www.wikidata.org/prop/direct/P58'), rdflib.term.URIRef('http://www.wikidata.org/prop/direct/P136'), rdflib.term.URIRef('http://www.wikidata.org/prop/direct/P136'), rdflib.term.URIRef('http://www.wikidata.org/prop/direct/P26'), rdflib.term.URIRef('http://www.wikidata.org/prop/direct/P136'), rdflib.term.URIRef('http://www.wikidata.org/prop/direct/P31'), rdflib.term.URIRef('http://schema.org/description'), rdflib.term.URIRef('http://www.wikidata.org/prop/direct/P136'), rdflib.term.URIRef('http://www.wikidata.org/prop/direct/P27'), rdflib.term.URIRef('http://www.wikidata.org/prop/direct/P57'), rdflib.term.URIRef('http://www.wikidata.org/prop/direct/P1080'), rdflib.term.URIRef('http://www.wikidata.org/prop/direct/P161'), rdflib.term.URIRef('http://www.wikidata.org/prop/direct/P345'), rdflib.term.URIRef('http://www.wikidata.org/prop/direct/P345'), rdflib.term.URIRef('http://www.wikidata.org/prop/direct/P495'), rdflib.term.URIRef('http://www.wikidata.org/prop/direct/P106'), rdflib.term.URIRef('http://www.wikidata.org/prop/direct/P345'), rdflib.term.URIRef('http://www.w3.org/2000/01/rdf-schema#label'), rdflib.term.URIRef('http://www.wikidata.org/prop/direct/P106'), rdflib.term.URIRef('http://www.wikidata.org/prop/direct/P577'), rdflib.term.URIRef('http://www.wikidata.org/prop/direct/P57'), rdflib.term.URIRef('http://www.wikidata.org/prop/direct/P26'), rdflib.term.URIRef('http://www.wikidata.org/prop/direct/P27'), rdflib.term.URIRef('http://www.wikidata.org/prop/direct/P725'), rdflib.term.URIRef('http://www.wikidata.org/prop/direct/P101'), rdflib.term.URIRef('http://schema.org/description'), rdflib.term.URIRef('http://www.wikidata.org/prop/direct/P921'), rdflib.term.URIRef('http://www.wikidata.org/prop/direct/P495'), rdflib.term.URIRef('http://www.wikidata.org/prop/direct/P106'), rdflib.term.URIRef('http://www.w3.org/2000/01/rdf-schema#label'), rdflib.term.URIRef('http://www.w3.org/2000/01/rdf-schema#label'), rdflib.term.URIRef('http://schema.org/description'), rdflib.term.URIRef('http://www.wikidata.org/prop/direct/P17'), rdflib.term.URIRef('http://www.wikidata.org/prop/direct/P272'), rdflib.term.URIRef('http://www.wikidata.org/prop/direct/P31'), rdflib.term.URIRef('http://www.wikidata.org/prop/direct/P161'), rdflib.term.URIRef('http://www.wikidata.org/prop/direct/P31'), rdflib.term.URIRef('http://www.wikidata.org/prop/direct/P106'), rdflib.term.URIRef('http://www.wikidata.org/prop/direct/P161'), rdflib.term.URIRef('http://www.wikidata.org/prop/direct/P345'), rdflib.term.URIRef('http://www.wikidata.org/prop/direct/P161'), rdflib.term.URIRef('http://www.wikidata.org/prop/direct/P106'), rdflib.term.URIRef('http://www.wikidata.org/prop/direct/P131'), rdflib.term.URIRef('http://www.wikidata.org/prop/direct/P58'), rdflib.term.URIRef('http://www.wikidata.org/prop/direct/P1412'), rdflib.term.URIRef('http://www.wikidata.org/prop/direct/P106'), rdflib.term.URIRef('http://www.wikidata.org/prop/direct/P345'), rdflib.term.URIRef('http://www.wikidata.org/prop/direct/P106'), rdflib.term.URIRef('http://www.wikidata.org/prop/direct/P161'), rdflib.term.URIRef('http://www.w3.org/2000/01/rdf-schema#label'), rdflib.term.URIRef('http://www.wikidata.org/prop/direct/P279'), rdflib.term.URIRef('http://www.w3.org/2000/01/rdf-schema#label'), rdflib.term.URIRef('http://www.wikidata.org/prop/direct/P4969'), rdflib.term.URIRef('http://www.wikidata.org/prop/direct/P57'), rdflib.term.URIRef('http://www.wikidata.org/prop/direct/P26'), rdflib.term.URIRef('http://www.wikidata.org/prop/direct/P407'), rdflib.term.URIRef('http://www.wikidata.org/prop/direct/P31'), rdflib.term.URIRef('http://www.wikidata.org/prop/direct/P19'), rdflib.term.URIRef('http://www.w3.org/2000/01/rdf-schema#label'), rdflib.term.URIRef('http://www.wikidata.org/prop/direct/P495'), rdflib.term.URIRef('http://www.wikidata.org/prop/direct/P1412'), rdflib.term.URIRef('http://www.wikidata.org/prop/direct/P161'), rdflib.term.URIRef('http://www.wikidata.org/prop/direct/P136'), rdflib.term.URIRef('http://schema.org/description'), rdflib.term.URIRef('http://www.wikidata.org/prop/direct/P106'), rdflib.term.URIRef('http://www.wikidata.org/prop/direct/P27'), rdflib.term.URIRef('http://www.wikidata.org/prop/direct/P345'), rdflib.term.URIRef('http://www.wikidata.org/prop/direct/P166'), rdflib.term.URIRef('http://www.wikidata.org/prop/direct/P31'), rdflib.term.URIRef('http://ddis.ch/atai/tag'), rdflib.term.URIRef('http://www.wikidata.org/prop/direct/P364'), rdflib.term.URIRef('http://www.wikidata.org/prop/direct/P57'), rdflib.term.URIRef('http://www.w3.org/2000/01/rdf-schema#label'), rdflib.term.URIRef('http://www.wikidata.org/prop/direct/P344'), rdflib.term.URIRef('http://www.wikidata.org/prop/direct/P31'), rdflib.term.URIRef('http://www.wikidata.org/prop/direct/P345'), rdflib.term.URIRef('http://www.wikidata.org/prop/direct/P345'), rdflib.term.URIRef('http://www.w3.org/2000/01/rdf-schema#label'), rdflib.term.URIRef('http://www.wikidata.org/prop/direct/P106'), rdflib.term.URIRef('http://ddis.ch/atai/tag'), rdflib.term.URIRef('http://www.w3.org/2000/01/rdf-schema#label'), rdflib.term.URIRef('http://schema.org/description'), rdflib.term.URIRef('http://www.wikidata.org/prop/direct/P1412'), rdflib.term.URIRef('http://schema.org/description'), rdflib.term.URIRef('http://www.wikidata.org/prop/direct/P344'), rdflib.term.URIRef('http://www.w3.org/2000/01/rdf-schema#label'), rdflib.term.URIRef('http://www.wikidata.org/prop/direct/P1981'), rdflib.term.URIRef('http://www.wikidata.org/prop/direct/P31'), rdflib.term.URIRef('http://www.wikidata.org/prop/direct/P106'), rdflib.term.URIRef('http://www.wikidata.org/prop/direct/P31'), rdflib.term.URIRef('http://www.wikidata.org/prop/direct/P161'), rdflib.term.URIRef('http://schema.org/description'), rdflib.term.URIRef('http://www.wikidata.org/prop/direct/P495'), rdflib.term.URIRef('http://www.wikidata.org/prop/direct/P530'), rdflib.term.URIRef('http://www.w3.org/2000/01/rdf-schema#label'), rdflib.term.URIRef('http://www.wikidata.org/prop/direct/P161'), rdflib.term.URIRef('http://www.w3.org/2000/01/rdf-schema#label'), rdflib.term.URIRef('http://www.wikidata.org/prop/direct/P31'), rdflib.term.URIRef('http://www.wikidata.org/prop/direct/P136'), rdflib.term.URIRef('http://schema.org/description'), rdflib.term.URIRef('http://www.wikidata.org/prop/direct/P344'), rdflib.term.URIRef('http://www.wikidata.org/prop/direct/P1441'), rdflib.term.URIRef('http://www.wikidata.org/prop/direct/P345'), rdflib.term.URIRef('http://www.wikidata.org/prop/direct/P166'), rdflib.term.URIRef('http://schema.org/description'), rdflib.term.URIRef('http://www.wikidata.org/prop/direct/P1552'), rdflib.term.URIRef('http://www.wikidata.org/prop/direct/P1441'), rdflib.term.URIRef('http://www.wikidata.org/prop/direct/P345'), rdflib.term.URIRef('http://www.wikidata.org/prop/direct/P750'), rdflib.term.URIRef('http://www.wikidata.org/prop/direct/P161'), rdflib.term.URIRef('http://www.wikidata.org/prop/direct/P106'), rdflib.term.URIRef('http://www.wikidata.org/prop/direct/P345'), rdflib.term.URIRef('http://www.wikidata.org/prop/direct/P725'), rdflib.term.URIRef('http://schema.org/description'), rdflib.term.URIRef('http://www.wikidata.org/prop/direct/P161'), rdflib.term.URIRef('http://www.wikidata.org/prop/direct/P577'), rdflib.term.URIRef('http://www.w3.org/2000/01/rdf-schema#label'), rdflib.term.URIRef('http://www.wikidata.org/prop/direct/P27'), rdflib.term.URIRef('http://www.wikidata.org/prop/direct/P3650'), rdflib.term.URIRef('http://schema.org/description'), rdflib.term.URIRef('http://www.wikidata.org/prop/direct/P437'), rdflib.term.URIRef('http://www.wikidata.org/prop/direct/P58'), rdflib.term.URIRef('http://www.wikidata.org/prop/direct/P161'), rdflib.term.URIRef('http://www.wikidata.org/prop/direct/P941'), rdflib.term.URIRef('http://www.wikidata.org/prop/direct/P31'), rdflib.term.URIRef('http://www.wikidata.org/prop/direct/P136'), rdflib.term.URIRef('http://www.wikidata.org/prop/direct/P462'), rdflib.term.URIRef('http://www.wikidata.org/prop/direct/P136'), rdflib.term.URIRef('http://www.wikidata.org/prop/direct/P437'), rdflib.term.URIRef('http://www.wikidata.org/prop/direct/P161'), rdflib.term.URIRef('http://www.wikidata.org/prop/direct/P5970'), rdflib.term.URIRef('http://www.wikidata.org/prop/direct/P1412'), rdflib.term.URIRef('http://www.wikidata.org/prop/direct/P19'), rdflib.term.URIRef('http://www.wikidata.org/prop/direct/P364'), rdflib.term.URIRef('http://www.wikidata.org/prop/direct/P1411'), rdflib.term.URIRef('http://www.wikidata.org/prop/direct/P4805'), rdflib.term.URIRef('http://www.wikidata.org/prop/direct/P20'), rdflib.term.URIRef('http://www.wikidata.org/prop/direct/P136'), rdflib.term.URIRef('http://www.wikidata.org/prop/direct/P840'), rdflib.term.URIRef('http://www.wikidata.org/prop/direct/P18'), rdflib.term.URIRef('http://www.wikidata.org/prop/direct/P175'), rdflib.term.URIRef('http://www.w3.org/2000/01/rdf-schema#label'), rdflib.term.URIRef('http://www.wikidata.org/prop/direct/P156'), rdflib.term.URIRef('http://www.wikidata.org/prop/direct/P27'), rdflib.term.URIRef('http://www.wikidata.org/prop/direct/P106'), rdflib.term.URIRef('http://www.wikidata.org/prop/direct/P750'), rdflib.term.URIRef('http://www.wikidata.org/prop/direct/P161'), rdflib.term.URIRef('http://www.wikidata.org/prop/direct/P161'), rdflib.term.URIRef('http://www.w3.org/2000/01/rdf-schema#label'), rdflib.term.URIRef('http://www.wikidata.org/prop/direct/P58'), rdflib.term.URIRef('http://www.wikidata.org/prop/direct/P527'), rdflib.term.URIRef('http://www.wikidata.org/prop/direct/P577'), rdflib.term.URIRef('http://www.wikidata.org/prop/direct/P161'), rdflib.term.URIRef('http://www.wikidata.org/prop/direct/P136'), rdflib.term.URIRef('http://www.wikidata.org/prop/direct/P1981'), rdflib.term.URIRef('http://www.wikidata.org/prop/direct/P750'), rdflib.term.URIRef('http://www.wikidata.org/prop/direct/P27'), rdflib.term.URIRef('http://www.wikidata.org/prop/direct/P57'), rdflib.term.URIRef('http://ddis.ch/atai/tag'), rdflib.term.URIRef('http://www.wikidata.org/prop/direct/P161'), rdflib.term.URIRef('http://www.wikidata.org/prop/direct/P27'), rdflib.term.URIRef('http://www.wikidata.org/prop/direct/P119'), rdflib.term.URIRef('http://schema.org/description'), rdflib.term.URIRef('http://www.wikidata.org/prop/direct/P31'), rdflib.term.URIRef('http://www.wikidata.org/prop/direct/P103'), rdflib.term.URIRef('http://schema.org/description'), rdflib.term.URIRef('http://www.wikidata.org/prop/direct/P58'), rdflib.term.URIRef('http://www.wikidata.org/prop/direct/P19'), rdflib.term.URIRef('http://www.wikidata.org/prop/direct/P31'), rdflib.term.URIRef('http://www.wikidata.org/prop/direct/P495'), rdflib.term.URIRef('http://www.wikidata.org/prop/direct/P1346'), rdflib.term.URIRef('http://www.wikidata.org/prop/direct/P106'), rdflib.term.URIRef('http://www.wikidata.org/prop/direct/P551'), rdflib.term.URIRef('http://www.wikidata.org/prop/direct/P27'), rdflib.term.URIRef('http://schema.org/description'), rdflib.term.URIRef('http://www.wikidata.org/prop/direct/P136'), rdflib.term.URIRef('http://www.wikidata.org/prop/direct/P1412'), rdflib.term.URIRef('http://www.wikidata.org/prop/direct/P495'), rdflib.term.URIRef('http://www.wikidata.org/prop/direct/P19'), rdflib.term.URIRef('http://www.wikidata.org/prop/direct/P3650'), rdflib.term.URIRef('http://www.wikidata.org/prop/direct/P161'), rdflib.term.URIRef('http://www.wikidata.org/prop/direct/P345'), rdflib.term.URIRef('http://www.wikidata.org/prop/direct/P345'), rdflib.term.URIRef('http://schema.org/description'), rdflib.term.URIRef('http://schema.org/description'), rdflib.term.URIRef('http://www.wikidata.org/prop/direct/P106'), rdflib.term.URIRef('http://www.wikidata.org/prop/direct/P31')]\n"
     ]
    }
   ],
   "execution_count": 25
  },
  {
   "metadata": {
    "ExecuteTime": {
     "end_time": "2024-10-24T09:54:31.473749Z",
     "start_time": "2024-10-24T09:54:29.007822Z"
    }
   },
   "cell_type": "code",
   "source": [
    "result = []\n",
    "for uri in predicates[:300]:\n",
    "    property_id = split_uri(uri)[1]\n",
    "    \n",
    "    query = f\"\"\"\n",
    "        PREFIX wdt: <http://www.wikidata.org/prop/direct/> \n",
    "        SELECT ?propertyLabel WHERE {{\n",
    "          wdt:{property_id} rdfs:label ?propertyLabel .\n",
    "          FILTER(LANG(?propertyLabel) = \"en\")\n",
    "        }}\n",
    "        LIMIT 1\n",
    "        \"\"\"\n",
    "    \n",
    "    res = graph.query(query)\n",
    "    result.append([str(s) for s, in res])\n",
    "print(result)"
   ],
   "id": "4a8040c0913b474e",
   "outputs": [
    {
     "name": "stdout",
     "output_type": "stream",
     "text": [
      "[['image'], ['cast member'], ['cast member'], [], ['cast member'], ['ClassInd rating'], ['present in work'], ['author'], ['performer'], [], ['winner'], ['assessment'], ['cast member'], ['screenwriter'], ['genre'], ['genre'], ['spouse'], ['genre'], ['instance of'], [], ['genre'], ['country of citizenship'], ['director'], ['from narrative universe'], ['cast member'], ['IMDb ID'], ['IMDb ID'], ['country of origin'], ['occupation'], ['IMDb ID'], [], ['occupation'], ['publication date'], ['director'], ['spouse'], ['country of citizenship'], ['voice actor'], ['field of work'], [], ['main subject'], ['country of origin'], ['occupation'], [], [], [], ['country'], ['production company'], ['instance of'], ['cast member'], ['instance of'], ['occupation'], ['cast member'], ['IMDb ID'], ['cast member'], ['occupation'], ['located in the administrative territorial entity'], ['screenwriter'], ['languages spoken, written or signed'], ['occupation'], ['IMDb ID'], ['occupation'], ['cast member'], [], ['subclass of'], [], ['derivative work'], ['director'], ['spouse'], ['language of work or name'], ['instance of'], ['place of birth'], [], ['country of origin'], ['languages spoken, written or signed'], ['cast member'], ['genre'], [], ['occupation'], ['country of citizenship'], ['IMDb ID'], ['award received'], ['instance of'], [], ['original language of film or TV show'], ['director'], [], ['director of photography'], ['instance of'], ['IMDb ID'], ['IMDb ID'], [], ['occupation'], [], [], [], ['languages spoken, written or signed'], [], ['director of photography'], [], ['FSK film rating'], ['instance of'], ['occupation'], ['instance of'], ['cast member'], [], ['country of origin'], ['diplomatic relation'], [], ['cast member'], [], ['instance of'], ['genre'], [], ['director of photography'], ['present in work'], ['IMDb ID'], ['award received'], [], ['has quality'], ['present in work'], ['IMDb ID'], ['distributed by'], ['cast member'], ['occupation'], ['IMDb ID'], ['voice actor'], [], ['cast member'], ['publication date'], [], ['country of citizenship'], ['JMK film rating'], [], ['distribution format'], ['screenwriter'], ['cast member'], ['inspired by'], ['instance of'], ['genre'], ['color'], ['genre'], ['distribution format'], ['cast member'], ['Medierådet rating'], ['languages spoken, written or signed'], ['place of birth'], ['original language of film or TV show'], ['nominated for'], ['make-up artist'], ['place of death'], ['genre'], ['narrative location'], ['image'], ['performer'], [], ['followed by'], ['country of citizenship'], ['occupation'], ['distributed by'], ['cast member'], ['cast member'], [], ['screenwriter'], ['has part'], ['publication date'], ['cast member'], ['genre'], ['FSK film rating'], ['distributed by'], ['country of citizenship'], ['director'], [], ['cast member'], ['country of citizenship'], ['place of burial'], [], ['instance of'], ['native language'], [], ['screenwriter'], ['place of birth'], ['instance of'], ['country of origin'], ['winner'], ['occupation'], ['residence'], ['country of citizenship'], [], ['genre'], ['languages spoken, written or signed'], ['country of origin'], ['place of birth'], ['JMK film rating'], ['cast member'], ['IMDb ID'], ['IMDb ID'], [], [], ['occupation'], ['instance of'], [], ['takes place in fictional universe'], ['original language of film or TV show'], ['IMDb ID'], ['instance of'], ['place of birth'], ['director of photography'], ['FSK film rating'], ['country of citizenship'], [], [], ['IMDb ID'], ['assessment'], ['Medierådet rating'], ['place of birth'], ['image'], ['nominated for'], [], ['instance of'], ['cast member'], ['country of citizenship'], ['instance of'], ['place of death'], ['genre'], [], ['occupation'], ['cast member'], [], [], ['country of citizenship'], [], ['IMDb ID'], ['place of birth'], ['cast member'], ['languages spoken, written or signed'], ['country of citizenship'], ['cast member'], ['cast member'], ['narrative location'], [], ['distribution format'], ['occupation'], ['box office'], ['production company'], ['IMDb ID'], ['publication date'], [], ['original film format'], ['assessment'], ['instance of'], ['instance of'], ['place of birth'], ['image'], ['color'], [], ['country of origin'], ['IMDb ID'], ['color'], ['instance of'], ['cast member'], ['languages spoken, written or signed'], [], ['instance of'], ['instance of'], ['IMDb ID'], ['place of birth'], ['genre'], ['country of citizenship'], ['image'], ['assessment'], [], ['mother'], ['nominated for'], ['cast member'], ['characters'], ['cast member'], ['distributed by'], [], [], ['director'], ['instance of'], [], [], ['IMDb ID'], ['described by source'], ['screenwriter'], ['country of origin'], ['production company'], ['IMDb ID'], [], ['country of citizenship'], ['place of death'], [], ['educated at'], ['FSK film rating'], ['cast member'], ['cast member'], ['cast member'], [], []]\n"
     ]
    }
   ],
   "execution_count": 45
  },
  {
   "metadata": {},
   "cell_type": "code",
   "outputs": [],
   "execution_count": null,
   "source": "",
   "id": "54a63ed71dbdfc43"
  }
 ],
 "metadata": {
  "kernelspec": {
   "display_name": "Python 3",
   "language": "python",
   "name": "python3"
  },
  "language_info": {
   "codemirror_mode": {
    "name": "ipython",
    "version": 2
   },
   "file_extension": ".py",
   "mimetype": "text/x-python",
   "name": "python",
   "nbconvert_exporter": "python",
   "pygments_lexer": "ipython2",
   "version": "2.7.6"
  }
 },
 "nbformat": 4,
 "nbformat_minor": 5
}
