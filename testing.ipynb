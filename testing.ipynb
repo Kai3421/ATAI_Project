{
 "cells": [
  {
   "cell_type": "code",
   "id": "initial_id",
   "metadata": {
    "collapsed": true,
    "ExecuteTime": {
     "end_time": "2024-10-24T09:22:16.371802Z",
     "start_time": "2024-10-24T09:22:16.366822Z"
    }
   },
   "source": [
    "import pyparsing\n",
    "from speakeasypy import Speakeasy\n",
    "import rdflib\n",
    "from rdflib.namespace import split_uri\n",
    "from rdflib.namespace import Namespace, RDF, RDFS, XSD\n",
    "import pickle"
   ],
   "outputs": [],
   "execution_count": 28
  },
  {
   "metadata": {
    "ExecuteTime": {
     "end_time": "2024-10-24T08:53:02.088961Z",
     "start_time": "2024-10-24T08:51:42.345399Z"
    }
   },
   "cell_type": "code",
   "source": [
    "graph = rdflib.Graph()\n",
    "graph.parse(\"dataset/14_graph.nt\", format=\"turtle\")"
   ],
   "id": "4f41a7695c2936a6",
   "outputs": [
    {
     "data": {
      "text/plain": [
       "<Graph identifier=Nf7c6d06742a64776b33829c998a0244a (<class 'rdflib.graph.Graph'>)>"
      ]
     },
     "execution_count": 2,
     "metadata": {},
     "output_type": "execute_result"
    }
   ],
   "execution_count": 2
  },
  {
   "metadata": {
    "ExecuteTime": {
     "end_time": "2024-10-24T09:30:57.334336Z",
     "start_time": "2024-10-24T09:30:54.385022Z"
    }
   },
   "cell_type": "code",
   "source": "predicates = list(graph.predicates())",
   "id": "9186011bff634da1",
   "outputs": [],
   "execution_count": 42
  },
  {
   "metadata": {
    "ExecuteTime": {
     "end_time": "2024-10-24T09:17:01.962726Z",
     "start_time": "2024-10-24T09:17:01.948785Z"
    }
   },
   "cell_type": "code",
   "source": [
    "with open(\"predicates.pkl\", \"wb\") as f:\n",
    "    pickle.dump(predicates, f)"
   ],
   "id": "3aa6874b4236fedd",
   "outputs": [],
   "execution_count": 23
  },
  {
   "metadata": {
    "ExecuteTime": {
     "end_time": "2024-10-24T09:17:11.017289Z",
     "start_time": "2024-10-24T09:17:11.011306Z"
    }
   },
   "cell_type": "code",
   "source": [
    "with open(\"predicates.pkl\", \"rb\") as f:\n",
    "    loaded_predicates = pickle.load(f)\n",
    "\n",
    "print(loaded_predicates)"
   ],
   "id": "8a3eebdd2f28e89",
   "outputs": [
    {
     "name": "stdout",
     "output_type": "stream",
     "text": [
      "[rdflib.term.URIRef('http://www.wikidata.org/prop/direct/P18'), rdflib.term.URIRef('http://www.wikidata.org/prop/direct/P161'), rdflib.term.URIRef('http://www.wikidata.org/prop/direct/P161'), rdflib.term.URIRef('http://schema.org/description'), rdflib.term.URIRef('http://www.wikidata.org/prop/direct/P161'), rdflib.term.URIRef('http://www.wikidata.org/prop/direct/P3216'), rdflib.term.URIRef('http://www.wikidata.org/prop/direct/P1441'), rdflib.term.URIRef('http://www.wikidata.org/prop/direct/P50'), rdflib.term.URIRef('http://www.wikidata.org/prop/direct/P175'), rdflib.term.URIRef('http://www.w3.org/2000/01/rdf-schema#label'), rdflib.term.URIRef('http://www.wikidata.org/prop/direct/P1346'), rdflib.term.URIRef('http://www.wikidata.org/prop/direct/P5021'), rdflib.term.URIRef('http://www.wikidata.org/prop/direct/P161'), rdflib.term.URIRef('http://www.wikidata.org/prop/direct/P58'), rdflib.term.URIRef('http://www.wikidata.org/prop/direct/P136'), rdflib.term.URIRef('http://www.wikidata.org/prop/direct/P136'), rdflib.term.URIRef('http://www.wikidata.org/prop/direct/P26'), rdflib.term.URIRef('http://www.wikidata.org/prop/direct/P136'), rdflib.term.URIRef('http://www.wikidata.org/prop/direct/P31'), rdflib.term.URIRef('http://schema.org/description'), rdflib.term.URIRef('http://www.wikidata.org/prop/direct/P136'), rdflib.term.URIRef('http://www.wikidata.org/prop/direct/P27'), rdflib.term.URIRef('http://www.wikidata.org/prop/direct/P57'), rdflib.term.URIRef('http://www.wikidata.org/prop/direct/P1080'), rdflib.term.URIRef('http://www.wikidata.org/prop/direct/P161'), rdflib.term.URIRef('http://www.wikidata.org/prop/direct/P345'), rdflib.term.URIRef('http://www.wikidata.org/prop/direct/P345'), rdflib.term.URIRef('http://www.wikidata.org/prop/direct/P495'), rdflib.term.URIRef('http://www.wikidata.org/prop/direct/P106'), rdflib.term.URIRef('http://www.wikidata.org/prop/direct/P345'), rdflib.term.URIRef('http://www.w3.org/2000/01/rdf-schema#label'), rdflib.term.URIRef('http://www.wikidata.org/prop/direct/P106'), rdflib.term.URIRef('http://www.wikidata.org/prop/direct/P577'), rdflib.term.URIRef('http://www.wikidata.org/prop/direct/P57'), rdflib.term.URIRef('http://www.wikidata.org/prop/direct/P26'), rdflib.term.URIRef('http://www.wikidata.org/prop/direct/P27'), rdflib.term.URIRef('http://www.wikidata.org/prop/direct/P725'), rdflib.term.URIRef('http://www.wikidata.org/prop/direct/P101'), rdflib.term.URIRef('http://schema.org/description'), rdflib.term.URIRef('http://www.wikidata.org/prop/direct/P921'), rdflib.term.URIRef('http://www.wikidata.org/prop/direct/P495'), rdflib.term.URIRef('http://www.wikidata.org/prop/direct/P106'), rdflib.term.URIRef('http://www.w3.org/2000/01/rdf-schema#label'), rdflib.term.URIRef('http://www.w3.org/2000/01/rdf-schema#label'), rdflib.term.URIRef('http://schema.org/description'), rdflib.term.URIRef('http://www.wikidata.org/prop/direct/P17'), rdflib.term.URIRef('http://www.wikidata.org/prop/direct/P272'), rdflib.term.URIRef('http://www.wikidata.org/prop/direct/P31'), rdflib.term.URIRef('http://www.wikidata.org/prop/direct/P161'), rdflib.term.URIRef('http://www.wikidata.org/prop/direct/P31'), rdflib.term.URIRef('http://www.wikidata.org/prop/direct/P106'), rdflib.term.URIRef('http://www.wikidata.org/prop/direct/P161'), rdflib.term.URIRef('http://www.wikidata.org/prop/direct/P345'), rdflib.term.URIRef('http://www.wikidata.org/prop/direct/P161'), rdflib.term.URIRef('http://www.wikidata.org/prop/direct/P106'), rdflib.term.URIRef('http://www.wikidata.org/prop/direct/P131'), rdflib.term.URIRef('http://www.wikidata.org/prop/direct/P58'), rdflib.term.URIRef('http://www.wikidata.org/prop/direct/P1412'), rdflib.term.URIRef('http://www.wikidata.org/prop/direct/P106'), rdflib.term.URIRef('http://www.wikidata.org/prop/direct/P345'), rdflib.term.URIRef('http://www.wikidata.org/prop/direct/P106'), rdflib.term.URIRef('http://www.wikidata.org/prop/direct/P161'), rdflib.term.URIRef('http://www.w3.org/2000/01/rdf-schema#label'), rdflib.term.URIRef('http://www.wikidata.org/prop/direct/P279'), rdflib.term.URIRef('http://www.w3.org/2000/01/rdf-schema#label'), rdflib.term.URIRef('http://www.wikidata.org/prop/direct/P4969'), rdflib.term.URIRef('http://www.wikidata.org/prop/direct/P57'), rdflib.term.URIRef('http://www.wikidata.org/prop/direct/P26'), rdflib.term.URIRef('http://www.wikidata.org/prop/direct/P407'), rdflib.term.URIRef('http://www.wikidata.org/prop/direct/P31'), rdflib.term.URIRef('http://www.wikidata.org/prop/direct/P19'), rdflib.term.URIRef('http://www.w3.org/2000/01/rdf-schema#label'), rdflib.term.URIRef('http://www.wikidata.org/prop/direct/P495'), rdflib.term.URIRef('http://www.wikidata.org/prop/direct/P1412'), rdflib.term.URIRef('http://www.wikidata.org/prop/direct/P161'), rdflib.term.URIRef('http://www.wikidata.org/prop/direct/P136'), rdflib.term.URIRef('http://schema.org/description'), rdflib.term.URIRef('http://www.wikidata.org/prop/direct/P106'), rdflib.term.URIRef('http://www.wikidata.org/prop/direct/P27'), rdflib.term.URIRef('http://www.wikidata.org/prop/direct/P345'), rdflib.term.URIRef('http://www.wikidata.org/prop/direct/P166'), rdflib.term.URIRef('http://www.wikidata.org/prop/direct/P31'), rdflib.term.URIRef('http://ddis.ch/atai/tag'), rdflib.term.URIRef('http://www.wikidata.org/prop/direct/P364'), rdflib.term.URIRef('http://www.wikidata.org/prop/direct/P57'), rdflib.term.URIRef('http://www.w3.org/2000/01/rdf-schema#label'), rdflib.term.URIRef('http://www.wikidata.org/prop/direct/P344'), rdflib.term.URIRef('http://www.wikidata.org/prop/direct/P31'), rdflib.term.URIRef('http://www.wikidata.org/prop/direct/P345'), rdflib.term.URIRef('http://www.wikidata.org/prop/direct/P345'), rdflib.term.URIRef('http://www.w3.org/2000/01/rdf-schema#label'), rdflib.term.URIRef('http://www.wikidata.org/prop/direct/P106'), rdflib.term.URIRef('http://ddis.ch/atai/tag'), rdflib.term.URIRef('http://www.w3.org/2000/01/rdf-schema#label'), rdflib.term.URIRef('http://schema.org/description'), rdflib.term.URIRef('http://www.wikidata.org/prop/direct/P1412'), rdflib.term.URIRef('http://schema.org/description'), rdflib.term.URIRef('http://www.wikidata.org/prop/direct/P344'), rdflib.term.URIRef('http://www.w3.org/2000/01/rdf-schema#label'), rdflib.term.URIRef('http://www.wikidata.org/prop/direct/P1981'), rdflib.term.URIRef('http://www.wikidata.org/prop/direct/P31'), rdflib.term.URIRef('http://www.wikidata.org/prop/direct/P106'), rdflib.term.URIRef('http://www.wikidata.org/prop/direct/P31'), rdflib.term.URIRef('http://www.wikidata.org/prop/direct/P161'), rdflib.term.URIRef('http://schema.org/description'), rdflib.term.URIRef('http://www.wikidata.org/prop/direct/P495'), rdflib.term.URIRef('http://www.wikidata.org/prop/direct/P530'), rdflib.term.URIRef('http://www.w3.org/2000/01/rdf-schema#label'), rdflib.term.URIRef('http://www.wikidata.org/prop/direct/P161'), rdflib.term.URIRef('http://www.w3.org/2000/01/rdf-schema#label'), rdflib.term.URIRef('http://www.wikidata.org/prop/direct/P31'), rdflib.term.URIRef('http://www.wikidata.org/prop/direct/P136'), rdflib.term.URIRef('http://schema.org/description'), rdflib.term.URIRef('http://www.wikidata.org/prop/direct/P344'), rdflib.term.URIRef('http://www.wikidata.org/prop/direct/P1441'), rdflib.term.URIRef('http://www.wikidata.org/prop/direct/P345'), rdflib.term.URIRef('http://www.wikidata.org/prop/direct/P166'), rdflib.term.URIRef('http://schema.org/description'), rdflib.term.URIRef('http://www.wikidata.org/prop/direct/P1552'), rdflib.term.URIRef('http://www.wikidata.org/prop/direct/P1441'), rdflib.term.URIRef('http://www.wikidata.org/prop/direct/P345'), rdflib.term.URIRef('http://www.wikidata.org/prop/direct/P750'), rdflib.term.URIRef('http://www.wikidata.org/prop/direct/P161'), rdflib.term.URIRef('http://www.wikidata.org/prop/direct/P106'), rdflib.term.URIRef('http://www.wikidata.org/prop/direct/P345'), rdflib.term.URIRef('http://www.wikidata.org/prop/direct/P725'), rdflib.term.URIRef('http://schema.org/description'), rdflib.term.URIRef('http://www.wikidata.org/prop/direct/P161'), rdflib.term.URIRef('http://www.wikidata.org/prop/direct/P577'), rdflib.term.URIRef('http://www.w3.org/2000/01/rdf-schema#label'), rdflib.term.URIRef('http://www.wikidata.org/prop/direct/P27'), rdflib.term.URIRef('http://www.wikidata.org/prop/direct/P3650'), rdflib.term.URIRef('http://schema.org/description'), rdflib.term.URIRef('http://www.wikidata.org/prop/direct/P437'), rdflib.term.URIRef('http://www.wikidata.org/prop/direct/P58'), rdflib.term.URIRef('http://www.wikidata.org/prop/direct/P161'), rdflib.term.URIRef('http://www.wikidata.org/prop/direct/P941'), rdflib.term.URIRef('http://www.wikidata.org/prop/direct/P31'), rdflib.term.URIRef('http://www.wikidata.org/prop/direct/P136'), rdflib.term.URIRef('http://www.wikidata.org/prop/direct/P462'), rdflib.term.URIRef('http://www.wikidata.org/prop/direct/P136'), rdflib.term.URIRef('http://www.wikidata.org/prop/direct/P437'), rdflib.term.URIRef('http://www.wikidata.org/prop/direct/P161'), rdflib.term.URIRef('http://www.wikidata.org/prop/direct/P5970'), rdflib.term.URIRef('http://www.wikidata.org/prop/direct/P1412'), rdflib.term.URIRef('http://www.wikidata.org/prop/direct/P19'), rdflib.term.URIRef('http://www.wikidata.org/prop/direct/P364'), rdflib.term.URIRef('http://www.wikidata.org/prop/direct/P1411'), rdflib.term.URIRef('http://www.wikidata.org/prop/direct/P4805'), rdflib.term.URIRef('http://www.wikidata.org/prop/direct/P20'), rdflib.term.URIRef('http://www.wikidata.org/prop/direct/P136'), rdflib.term.URIRef('http://www.wikidata.org/prop/direct/P840'), rdflib.term.URIRef('http://www.wikidata.org/prop/direct/P18'), rdflib.term.URIRef('http://www.wikidata.org/prop/direct/P175'), rdflib.term.URIRef('http://www.w3.org/2000/01/rdf-schema#label'), rdflib.term.URIRef('http://www.wikidata.org/prop/direct/P156'), rdflib.term.URIRef('http://www.wikidata.org/prop/direct/P27'), rdflib.term.URIRef('http://www.wikidata.org/prop/direct/P106'), rdflib.term.URIRef('http://www.wikidata.org/prop/direct/P750'), rdflib.term.URIRef('http://www.wikidata.org/prop/direct/P161'), rdflib.term.URIRef('http://www.wikidata.org/prop/direct/P161'), rdflib.term.URIRef('http://www.w3.org/2000/01/rdf-schema#label'), rdflib.term.URIRef('http://www.wikidata.org/prop/direct/P58'), rdflib.term.URIRef('http://www.wikidata.org/prop/direct/P527'), rdflib.term.URIRef('http://www.wikidata.org/prop/direct/P577'), rdflib.term.URIRef('http://www.wikidata.org/prop/direct/P161'), rdflib.term.URIRef('http://www.wikidata.org/prop/direct/P136'), rdflib.term.URIRef('http://www.wikidata.org/prop/direct/P1981'), rdflib.term.URIRef('http://www.wikidata.org/prop/direct/P750'), rdflib.term.URIRef('http://www.wikidata.org/prop/direct/P27'), rdflib.term.URIRef('http://www.wikidata.org/prop/direct/P57'), rdflib.term.URIRef('http://ddis.ch/atai/tag'), rdflib.term.URIRef('http://www.wikidata.org/prop/direct/P161'), rdflib.term.URIRef('http://www.wikidata.org/prop/direct/P27'), rdflib.term.URIRef('http://www.wikidata.org/prop/direct/P119'), rdflib.term.URIRef('http://schema.org/description'), rdflib.term.URIRef('http://www.wikidata.org/prop/direct/P31'), rdflib.term.URIRef('http://www.wikidata.org/prop/direct/P103'), rdflib.term.URIRef('http://schema.org/description'), rdflib.term.URIRef('http://www.wikidata.org/prop/direct/P58'), rdflib.term.URIRef('http://www.wikidata.org/prop/direct/P19'), rdflib.term.URIRef('http://www.wikidata.org/prop/direct/P31'), rdflib.term.URIRef('http://www.wikidata.org/prop/direct/P495'), rdflib.term.URIRef('http://www.wikidata.org/prop/direct/P1346'), rdflib.term.URIRef('http://www.wikidata.org/prop/direct/P106'), rdflib.term.URIRef('http://www.wikidata.org/prop/direct/P551'), rdflib.term.URIRef('http://www.wikidata.org/prop/direct/P27'), rdflib.term.URIRef('http://schema.org/description'), rdflib.term.URIRef('http://www.wikidata.org/prop/direct/P136'), rdflib.term.URIRef('http://www.wikidata.org/prop/direct/P1412'), rdflib.term.URIRef('http://www.wikidata.org/prop/direct/P495'), rdflib.term.URIRef('http://www.wikidata.org/prop/direct/P19'), rdflib.term.URIRef('http://www.wikidata.org/prop/direct/P3650'), rdflib.term.URIRef('http://www.wikidata.org/prop/direct/P161'), rdflib.term.URIRef('http://www.wikidata.org/prop/direct/P345'), rdflib.term.URIRef('http://www.wikidata.org/prop/direct/P345'), rdflib.term.URIRef('http://schema.org/description'), rdflib.term.URIRef('http://schema.org/description'), rdflib.term.URIRef('http://www.wikidata.org/prop/direct/P106'), rdflib.term.URIRef('http://www.wikidata.org/prop/direct/P31')]\n"
     ]
    }
   ],
   "execution_count": 25
  },
  {
   "metadata": {
    "jupyter": {
     "is_executing": true
    },
    "ExecuteTime": {
     "start_time": "2024-10-24T09:31:02.958331Z"
    }
   },
   "cell_type": "code",
   "source": [
    "result = []\n",
    "for uri in predicates:\n",
    "    property_id = split_uri(uri)[1]\n",
    "    \n",
    "    query = f\"\"\"\n",
    "        PREFIX ddis: <http://ddis.ch/atai/> \n",
    "        PREFIX wd: <http://www.wikidata.org/entity/> \n",
    "        PREFIX wdt: <http://www.wikidata.org/prop/direct/> \n",
    "        PREFIX schema: <http://schema.org/> \n",
    "        SELECT ?propertyLabel WHERE {{\n",
    "          wdt:{property_id} rdfs:label ?propertyLabel .\n",
    "          FILTER(LANG(?propertyLabel) = \"en\")\n",
    "        }}\n",
    "        LIMIT 1\n",
    "        \"\"\"\n",
    "    \n",
    "    res = graph.query(query)\n",
    "    result.append([str(s) for s, in res])\n",
    "print(result)"
   ],
   "id": "4a8040c0913b474e",
   "outputs": [],
   "execution_count": null
  },
  {
   "metadata": {},
   "cell_type": "code",
   "outputs": [],
   "execution_count": null,
   "source": "",
   "id": "54a63ed71dbdfc43"
  }
 ],
 "metadata": {
  "kernelspec": {
   "display_name": "Python 3",
   "language": "python",
   "name": "python3"
  },
  "language_info": {
   "codemirror_mode": {
    "name": "ipython",
    "version": 2
   },
   "file_extension": ".py",
   "mimetype": "text/x-python",
   "name": "python",
   "nbconvert_exporter": "python",
   "pygments_lexer": "ipython2",
   "version": "2.7.6"
  }
 },
 "nbformat": 4,
 "nbformat_minor": 5
}
